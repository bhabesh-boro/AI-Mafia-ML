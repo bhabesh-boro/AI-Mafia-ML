{
 "cells": [
  {
   "cell_type": "code",
   "execution_count": 1,
   "metadata": {},
   "outputs": [],
   "source": [
    "import numpy as np\n",
    "import pandas as pd\n",
    "import matplotlib.pyplot as plt"
   ]
  },
  {
   "cell_type": "markdown",
   "metadata": {},
   "source": [
    "# Get the training data"
   ]
  },
  {
   "cell_type": "code",
   "execution_count": 4,
   "metadata": {},
   "outputs": [
    {
     "name": "stdout",
     "output_type": "stream",
     "text": [
      "(3750,)\n",
      "(3750,)\n",
      "[-0.28930742 -0.58880963  1.02750749 ... -0.30516366  1.67583291\n",
      " -0.49175724]\n",
      "[-9.11011171e-02 -5.34677208e+01  7.54570088e+01 ... -3.49832749e+01\n",
      "  1.45206092e+02 -1.71244939e+01]\n"
     ]
    }
   ],
   "source": [
    "dfx = pd.read_csv(r\"C:\\Users\\Bhabesh Boro\\Desktop\\AI mafia\\Linear Regression\\Linear_X_Train.csv\")\n",
    "dfy = pd.read_csv(r\"C:\\Users\\Bhabesh Boro\\Desktop\\AI mafia\\Linear Regression\\Linear_Y_Train.csv\")\n",
    "\n",
    "x = dfx.values\n",
    "y = dfy.values\n",
    "\n",
    "x =x.reshape((-1,))\n",
    "y =y.reshape((-1,))\n",
    "\n",
    "print (x.shape)\n",
    "print (y.shape)\n",
    "print(x)\n",
    "print(y)"
   ]
  },
  {
   "cell_type": "markdown",
   "metadata": {},
   "source": [
    "# Visualise and preprocess"
   ]
  },
  {
   "cell_type": "code",
   "execution_count": 5,
   "metadata": {},
   "outputs": [
    {
     "data": {
      "image/png": "[encoded data removed]",
      "text/plain": [
       "<Figure size 432x288 with 1 Axes>"
      ]
     },
     "metadata": {
      "needs_background": "light"
     },
     "output_type": "display_data"
    }
   ],
   "source": [
    "#normalization\n",
    "plt.scatter(x,y)\n",
    "X = (x-x.mean())/x.std()\n",
    "Y = y\n",
    "plt.scatter(X,Y)\n",
    "plt.show()"
   ]
  },
  {
   "cell_type": "code",
   "execution_count": 6,
   "metadata": {},
   "outputs": [
    {
     "data": {
      "image/png": "[encoded data removed]",
      "text/plain": [
       "<Figure size 432x288 with 1 Axes>"
      ]
     },
     "metadata": {
      "needs_background": "light"
     },
     "output_type": "display_data"
    }
   ],
   "source": [
    "plt.scatter(X,Y)\n",
    "plt.show()"
   ]
  },
  {
   "cell_type": "markdown",
   "metadata": {},
   "source": [
    "# Gradient descent algorithm\n",
    "    -Start with a random theta\n",
    "    -Repeat until converge\n",
    "        Update Theta according to the rule"
   ]
  },
  {
   "cell_type": "code",
   "execution_count": 11,
   "metadata": {},
   "outputs": [],
   "source": [
    "\n",
    "\n",
    "#Hypothesis: h(x)=m*x+c=theta[1]*x+theta[0]\n",
    "def hypothesis(x,theta):\n",
    "    return theta[0] + theta[1]*x\n",
    "\n",
    "#Size of array\n",
    "def error(X,Y,theta):\n",
    "    \n",
    "    m=X.shape[0]                       \n",
    "    error=0\n",
    "    \n",
    "    for i in range(m):\n",
    "        hx=hypothesis(X[i],theta)      \n",
    "        error += (hx-Y[i])**2         \n",
    "        \n",
    "    return error                      \n",
    "\n",
    "#calculating gradient/slope:\n",
    "def gradient(X,Y,theta):\n",
    "    grad=np.zeros((2,))                \n",
    "    m=X.shape[0]                       \n",
    "    \n",
    "    for i in range(m):\n",
    "        hx=hypothesis(X[i],theta)      \n",
    "        grad[0] +=  (hx-Y[i])\n",
    "        grad[1] += (hx-Y[i])*X[i]\n",
    "        \n",
    "    return grad\n",
    "    \n",
    "#implementing the gradient descent algorithm to calculate the optimised value for theta(m,c) such that the error is minimized\n",
    "def gradientDescent(X,Y,learning_rate=0.0005):        \n",
    "    \n",
    "    theta = np.array([-2.0,0.0]) \n",
    "    \n",
    "    itr = 0\n",
    "    max_itr = 100               \n",
    "    \n",
    "    error_list = []\n",
    "    theta_list = []\n",
    "    \n",
    "    while(itr<=max_itr):         \n",
    "        grad = gradient(X,Y,theta) \n",
    "        e = error(X,Y,theta)\n",
    "        error_list.append(e)    \n",
    "        \n",
    "        theta_list.append((theta[0],theta[1]))  \n",
    "        theta[0] = theta[0] - learning_rate*grad[0] \n",
    "        theta[1] = theta[1] - learning_rate*grad[1] \n",
    "        \n",
    "        \n",
    "        itr += 1\n",
    "        \n",
    "    \n",
    "    return theta,error_list,theta_list"
   ]
  },
  {
   "cell_type": "code",
   "execution_count": 12,
   "metadata": {},
   "outputs": [],
   "source": [
    "final_theta, error_list,theta_list = gradientDescent(X,Y)"
   ]
  },
  {
   "cell_type": "code",
   "execution_count": 13,
   "metadata": {},
   "outputs": [
    {
     "data": {
      "image/png": "[encoded data removed]",
      "text/plain": [
       "<Figure size 432x288 with 1 Axes>"
      ]
     },
     "metadata": {
      "needs_background": "light"
     },
     "output_type": "display_data"
    }
   ],
   "source": [
    "plt.plot(error_list)\n",
    "plt.show()"
   ]
  },
  {
   "cell_type": "code",
   "execution_count": 14,
   "metadata": {},
   "outputs": [
    {
     "name": "stdout",
     "output_type": "stream",
     "text": [
      "[ 0.6838727  79.90584796]\n"
     ]
    }
   ],
   "source": [
    "print(final_theta)"
   ]
  },
  {
   "cell_type": "code",
   "execution_count": 15,
   "metadata": {},
   "outputs": [
    {
     "name": "stdout",
     "output_type": "stream",
     "text": [
      "(1250,)\n",
      "[-1.87794441 -0.86903192 -2.53018242 ...  0.12800782 -0.27803759\n",
      " -0.68042543]\n"
     ]
    }
   ],
   "source": [
    "### Plot the line for testing data\n",
    "\n",
    "xtest = pd.read_csv(r\"C:\\Users\\Bhabesh Boro\\Desktop\\AI mafia\\Linear Regression\\Linear_X_Test.csv\")\n",
    "x = xtest.values\n",
    "\n",
    "x =x.reshape((-1,))\n",
    "print (x.shape)\n",
    "\n",
    "print(x)\n"
   ]
  },
  {
   "cell_type": "code",
   "execution_count": 16,
   "metadata": {},
   "outputs": [
    {
     "data": {
      "image/png": "[encoded data removed]",
      "text/plain": [
       "<Figure size 432x288 with 1 Axes>"
      ]
     },
     "metadata": {
      "needs_background": "light"
     },
     "output_type": "display_data"
    }
   ],
   "source": [
    "plt.scatter(X,Y,label='Training Data')\n",
    "plt.plot(xtest,hypothesis(xtest,final_theta),color='orange',label=\"Prediction\")\n",
    "plt.legend()\n",
    "plt.show()"
   ]
  },
  {
   "cell_type": "code",
   "execution_count": 18,
   "metadata": {},
   "outputs": [
    {
     "name": "stdout",
     "output_type": "stream",
     "text": [
      "               x\n",
      "0    -149.374868\n",
      "1     -68.756859\n",
      "2    -201.492499\n",
      "3     221.240429\n",
      "4      47.908239\n",
      "...          ...\n",
      "1245  -12.744983\n",
      "1246   75.173906\n",
      "1247   10.912446\n",
      "1248  -21.532957\n",
      "1249  -53.686098\n",
      "\n",
      "[1250 rows x 1 columns]\n"
     ]
    }
   ],
   "source": [
    "print(hypothesis(xtest,final_theta))"
   ]
  }
 ],
 "metadata": {
  "kernelspec": {
   "display_name": "Python 3",
   "language": "python",
   "name": "python3"
  },
  "language_info": {
   "codemirror_mode": {
    "name": "ipython",
    "version": 3
   },
   "file_extension": ".py",
   "mimetype": "text/x-python",
   "name": "python",
   "nbconvert_exporter": "python",
   "pygments_lexer": "ipython3",
   "version": "3.7.6"
  }
 },
 "nbformat": 4,
 "nbformat_minor": 4
}
