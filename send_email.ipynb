{
 "cells": [
  {
   "cell_type": "code",
   "execution_count": 6,
   "metadata": {},
   "outputs": [
    {
     "name": "stdout",
     "output_type": "stream",
     "text": [
      "········\n"
     ]
    }
   ],
   "source": [
    "import smtplib \n",
    "import getpass\n",
    "from email.mime.text import MIMEText\n",
    "\n",
    "def send_mail():\n",
    "    sender_address = 'b.boro9101@gmail.com'\n",
    "    password = getpass.getpass()\n",
    "    subject = 'AI MAfia - ML'\n",
    "    msg = '''\n",
    "            hey what'sup !!\n",
    "    \n",
    "    '''\n",
    "    #server initialisation\n",
    "    server = smtplib.SMTP('smtp.gmail.com',587)\n",
    "    server.starttls()\n",
    "    server.login(sender_address,password)\n",
    "    #draft my message body\n",
    "    msg = MIMEText(msg)\n",
    "    msg['Subject'] = subject\n",
    "    msg['From'] = sender_address\n",
    "    msg['To'] = 'b.boro9101@gmail.com'\n",
    "    recipients = 'b.boro9101@gmail.com'\n",
    "    \n",
    "    \n",
    "    server.sendmail(sender_address, recipients, msg.as_string())\n",
    "    \n",
    "send_mail()"
   ]
  },
  {
   "cell_type": "code",
   "execution_count": null,
   "metadata": {},
   "outputs": [],
   "source": []
  }
 ],
 "metadata": {
  "kernelspec": {
   "display_name": "Python 3",
   "language": "python",
   "name": "python3"
  },
  "language_info": {
   "codemirror_mode": {
    "name": "ipython",
    "version": 3
   },
   "file_extension": ".py",
   "mimetype": "text/x-python",
   "name": "python",
   "nbconvert_exporter": "python",
   "pygments_lexer": "ipython3",
   "version": "3.7.6"
  }
 },
 "nbformat": 4,
 "nbformat_minor": 4
}
